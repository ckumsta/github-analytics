{
 "cells": [
  {
   "cell_type": "code",
   "execution_count": 10,
   "metadata": {},
   "outputs": [],
   "source": [
    "import numpy as np\n",
    "import pandas as pd"
   ]
  },
  {
   "cell_type": "markdown",
   "metadata": {},
   "source": [
    "![Levenshtein table](Screenshot%202023-08-10%20145212.png)"
   ]
  },
  {
   "cell_type": "code",
   "execution_count": 23,
   "metadata": {},
   "outputs": [],
   "source": [
    "def display_levenshtein_matrix(array: list, str1: str, str2: str) -> ():\n",
    "    cols = [c for c in \" \" + str2]\n",
    "    rows = [c for c in \" \" + str1]\n",
    "    df = pd.DataFrame(array, index=rows, columns=cols)\n",
    "    print(df)\n",
    "                \n",
    "        \n",
    "\n",
    "def levenshtein_distance(str1: str, str2:str,display: bool = False) -> int:\n",
    "    \"\"\"Compute Levenshtein distance between 2 strings\n",
    "    \"\"\"\n",
    "    rows = len(str1)+1\n",
    "    cols = len(str2)+1\n",
    "    array = np.zeros((rows, cols))\n",
    "    # initialize delete (1st row) and insert (1st col) values\n",
    "    for i in range(rows):\n",
    "        array[i,0] = i\n",
    "    for i in range(cols):\n",
    "        array[0,i] = i\n",
    "    # unroll the array from left to right and top to bottom\n",
    "    for row in range(1, rows):\n",
    "        for col in range(1, cols):\n",
    "            # careful to the indexes !!\n",
    "            if str1[row-1] == str2[col-1]:\n",
    "                # identical character, value is identical as sub-problem -1 row and -1 col\n",
    "                array[row, col] = array[row-1, col-1]\n",
    "            else:\n",
    "                previous = min(array[row-1,col], array[row,col-1], array[row-1, col-1])\n",
    "                array[row, col] = previous+1 # that would require a mutation at this locaion\n",
    "    # display Matrix if required\n",
    "    if display:\n",
    "        display_levenshtein_matrix(array, str1, str2)\n",
    "    # return the final cell\n",
    "    return array[rows-1, cols-1]"
   ]
  },
  {
   "cell_type": "code",
   "execution_count": 27,
   "metadata": {},
   "outputs": [
    {
     "name": "stdout",
     "output_type": "stream",
     "text": [
      "          e    l    e    v    a    g    e\n",
      "   0.0  1.0  2.0  3.0  4.0  5.0  6.0  7.0\n",
      "l  1.0  1.0  1.0  2.0  3.0  4.0  5.0  6.0\n",
      "e  2.0  1.0  2.0  1.0  2.0  3.0  4.0  5.0\n",
      "v  3.0  2.0  2.0  2.0  1.0  2.0  3.0  4.0\n",
      "e  4.0  3.0  3.0  2.0  2.0  2.0  3.0  3.0\n",
      "r  5.0  4.0  4.0  3.0  3.0  3.0  3.0  4.0\n",
      "a  6.0  5.0  5.0  4.0  4.0  3.0  4.0  4.0\n",
      "g  7.0  6.0  6.0  5.0  5.0  4.0  3.0  4.0\n",
      "e  8.0  7.0  7.0  6.0  6.0  5.0  4.0  3.0\n",
      "distance between leverage and elevage is 3.0\n"
     ]
    }
   ],
   "source": [
    "str1 = \"leverage\"\n",
    "str2 = \"elevage\"\n",
    "print(\"distance between\", str1, \"and\", str2, \"is\", levenshtein_distance(str1, str2, display=True))"
   ]
  },
  {
   "cell_type": "code",
   "execution_count": null,
   "metadata": {},
   "outputs": [],
   "source": []
  }
 ],
 "metadata": {
  "kernelspec": {
   "display_name": "github-analytics",
   "language": "python",
   "name": "python3"
  },
  "language_info": {
   "codemirror_mode": {
    "name": "ipython",
    "version": 3
   },
   "file_extension": ".py",
   "mimetype": "text/x-python",
   "name": "python",
   "nbconvert_exporter": "python",
   "pygments_lexer": "ipython3",
   "version": "3.10.12"
  },
  "orig_nbformat": 4
 },
 "nbformat": 4,
 "nbformat_minor": 2
}
